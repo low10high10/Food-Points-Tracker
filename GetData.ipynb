{
 "cells": [
  {
   "cell_type": "code",
   "execution_count": 143,
   "metadata": {},
   "outputs": [],
   "source": [
    "import json"
   ]
  },
  {
   "cell_type": "code",
   "execution_count": 144,
   "metadata": {},
   "outputs": [
    {
     "name": "stdout",
     "output_type": "stream",
     "text": [
      "Post Date Location Amount End Balance\n",
      "10/1/2019 11:36 AM Au Bon Pain ABPReg1 (2.57) 1,657.04\n",
      "10/1/2019 1:18 PM Bella Union BELReg1 (7.64) 1,649.40\n",
      "10/1/2019 3:40 PM Devils Krafthouse KRAReg3 (10.91) 1,638.49\n",
      "10/1/2019 10:50 PM Devils Krafthouse KRAReg3 (10.52) 1,627.97\n"
     ]
    }
   ],
   "source": [
    "f = open(\"food_points.txt\")\n",
    "data = {}\n",
    "data[\"October\"] = {}\n",
    "lst = []\n",
    "for l in f:\n",
    "    l = l.replace(\" USD\", \"\")\n",
    "    #l = l.replace(\" AM\", \"\")\n",
    "    #l = l.replace(\" PM\", \"\")\n",
    "    lst.append(l.strip())\n",
    "for i in lst[0:5]:\n",
    "    print(i)"
   ]
  },
  {
   "cell_type": "code",
   "execution_count": 145,
   "metadata": {},
   "outputs": [],
   "source": [
    "for temp in lst[1:]:\n",
    "    date = temp[:temp.find(\" \")]\n",
    "    day = date.split(\"/\")[1]\n",
    "    #print(day)\n",
    "    no_date =  temp[temp.find(\" \") + 1:]\n",
    "    time = \" \".join(no_date.split()[:2])\n",
    "    #time = no_date[:no_date.find(\" \")].strip()\n",
    "    no_time = \" \".join(no_date.split()[2:])\n",
    "    balance_left = no_time[no_time.rfind(\" \"):].strip()\n",
    "    no_balance = no_time[:no_time.rfind(\" \")].strip()\n",
    "    cost = no_balance[no_balance.rfind(\" \"):].strip()[1:-1]\n",
    "    no_cost = no_balance[:no_balance.rfind(\" \")].strip()\n",
    "    \n",
    "    if \"-\" in no_cost:\n",
    "        location = no_cost.split(\"-\")[0]\n",
    "    else:\n",
    "        location = no_cost[:no_cost.rfind(\" \")]\n",
    "    small_dict = {\"Location\": location, \"Time\": time, \"Cost\": cost, \"Balance\": balance_left}\n",
    "    #print(small_dict)\n",
    "    #print(date, time, location, cost, balance_left)\n",
    "    if day not in data[\"October\"]:\n",
    "        data[\"October\"][day] = []\n",
    "    data[\"October\"][day].append(small_dict)"
   ]
  },
  {
   "cell_type": "code",
   "execution_count": 146,
   "metadata": {},
   "outputs": [],
   "source": [
    "with open(\"test.json\", \"w\") as write_file:\n",
    "    json.dump(data, write_file)"
   ]
  },
  {
   "cell_type": "code",
   "execution_count": null,
   "metadata": {},
   "outputs": [],
   "source": []
  }
 ],
 "metadata": {
  "kernelspec": {
   "display_name": "Python 3",
   "language": "python",
   "name": "python3"
  },
  "language_info": {
   "codemirror_mode": {
    "name": "ipython",
    "version": 3
   },
   "file_extension": ".py",
   "mimetype": "text/x-python",
   "name": "python",
   "nbconvert_exporter": "python",
   "pygments_lexer": "ipython3",
   "version": "3.7.3"
  }
 },
 "nbformat": 4,
 "nbformat_minor": 2
}
